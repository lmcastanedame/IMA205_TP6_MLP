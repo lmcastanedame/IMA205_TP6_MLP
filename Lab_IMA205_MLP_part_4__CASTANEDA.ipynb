{
  "cells": [
    {
      "cell_type": "markdown",
      "metadata": {
        "id": "RIjFqlgERHAq"
      },
      "source": [
        "# IMA 205 - TP ANN (part C) - OPTIONAL\n",
        "\n",
        "## Coding a Multi-Layer Perceptron with Keras/Tensorflow\n",
        "\n",
        "This part is optional, and you do not have to put your solution on eCampus. Regardless, I encourage you to do this part if you have spare time during the lab as it gives you a chance to familiarize yourself with the higher-level API of Keras. You will see that when the task is straightforward and involves only pre-existing building blocks, implementing it via Keras is very fast."
      ]
    },
    {
      "cell_type": "markdown",
      "metadata": {
        "id": "feyuXrYp6oaM"
      },
      "source": [
        "Original Author : Alasdair Newson\n",
        "\n",
        "Adapted by Loic Le Folgoc. If you have questions, you can contact me at loic.lefolgoc@telecom-paris.fr"
      ]
    },
    {
      "cell_type": "markdown",
      "metadata": {
        "id": "oG_lwX5GRHAs"
      },
      "source": [
        "In the second part of this TP, we will be looking at the same Multi-Layer Perceptron (MLP) practical work, using Keras (https://keras.io/)\n",
        "\n",
        "We will be using the following packages :\n",
        "   \n",
        "   - Scikit-learn (http://scikit-learn.org/)\n",
        "   - Keras (https://keras.io/)\n",
        "\n",
        "The following commands will make sure that you have all the necessary packages"
      ]
    },
    {
      "cell_type": "code",
      "execution_count": 1,
      "metadata": {
        "id": "sCGFw05kRHAs"
      },
      "outputs": [
        {
          "name": "stdout",
          "output_type": "stream",
          "text": [
            "3.1.1\n"
          ]
        }
      ],
      "source": [
        "%matplotlib inline\n",
        "\n",
        "import numpy as np\n",
        "import matplotlib.pyplot as plt\n",
        "import os\n",
        "import pdb\n",
        "\n",
        "import sklearn  # scikit-learn\n",
        "import keras\n",
        "\n",
        "from keras import layers\n",
        "print(keras.__version__)"
      ]
    },
    {
      "cell_type": "code",
      "execution_count": 2,
      "metadata": {
        "id": "CA7n06PiC0yr"
      },
      "outputs": [
        {
          "data": {
            "text/plain": [
              "'tensorflow'"
            ]
          },
          "execution_count": 2,
          "metadata": {},
          "output_type": "execute_result"
        }
      ],
      "source": [
        "# This is the backend used by Keras by default:\n",
        "keras.backend.backend()"
      ]
    },
    {
      "cell_type": "markdown",
      "metadata": {
        "id": "dxgAcMrMRHAt"
      },
      "source": [
        "# 1 - Multi-Layer Perceptron with Keras"
      ]
    },
    {
      "cell_type": "markdown",
      "metadata": {
        "id": "OjK-B5mkRHAt"
      },
      "source": [
        "## Introduction to Keras"
      ]
    },
    {
      "cell_type": "markdown",
      "metadata": {
        "id": "gzVmdesCRHAu"
      },
      "source": [
        "Keras is a high-level, deep learning API originally written by François Chollet and now developed by Google for implementing neural networks. Like Pytorch, it provides automatic differentiation so that the user does not have to determine gradients manually, which can be extremely long even for simple networks, as you have seen in the previous lab.\n",
        "\n",
        "Previously, Keras was a high-level API using Tensorflow as a backend. Tensorflow is a library written by Google which also allows implementation of deep neural networks. Previously, Tensorflow required a strict separation between the creation (declaration) of variables and their execution (giving a numerical value, using the ```Session``` function). With Keras and Tensorflow 2, this separation has been removed, and the language has become simpler, in particular for creating and training networks.\n",
        "\n",
        "Since Keras 3, Keras can now be used on top of any backend in a transparent manner: JAX, Pytorch, or Tensorflow. By default, it still uses Tensorflow (as in our code below): but you will notice the code itself makes no explicit reference to Tensorflow.\n"
      ]
    },
    {
      "cell_type": "markdown",
      "metadata": {
        "id": "oo5mY5E1fYqj"
      },
      "source": [
        "## Creating a network\n",
        "\n",
        "To create a network, there are two (main) methods :"
      ]
    },
    {
      "cell_type": "markdown",
      "metadata": {
        "id": "XGeaBLzwfecj"
      },
      "source": [
        "### Creating a model using the Sequential API\n",
        "\n",
        "Keras has a simple way of adding layers to create a neural network. First, you can indicate to Keras that the model is 'sequential' (a simple model, with not many tweaks). For this, you can use the following function :\n",
        "- ```model = keras.Sequential()```\n",
        "\n",
        "After this, you can add layers with the function.\n",
        "\n",
        "- ```model.add()```\n",
        "\n",
        "You can then use the ```layers.Dense``` and ```Activation``` functions to specify different layer types.  __Note that in the case of this approach, you will have to specify the input image size in the first layer of the network, inside the first layer function.__ So, for example, if the first layer is a dense layer with a relu activation, with n_out output neurons, and n_input neurons :\n",
        "\n",
        "- `model = keras.Sequential()`\n",
        "- `model.add(layers.Dense(n_out,activation,input_shape=(n_in,),activation='relu'))`\n",
        "\n",
        "Otherwise, the network does not know how many weights to create. __Be careful of this special case (the first layer)__.\n",
        "\n",
        "Notice that here, the activation is simply an argument of the `Dense` layer.<br>\n",
        "\n",
        "Alternatively, like in Pytorch, we can pass the layers as arguments to `Sequential`: `model = keras.Sequential([layers.Dense(...),layers.Dense(...)])`."
      ]
    },
    {
      "cell_type": "markdown",
      "metadata": {
        "id": "gbFP6ViBfjRM"
      },
      "source": [
        "### Creating a model using the standard API\n",
        "\n",
        "Otherwise, another approach to creating the model is to explicitly create the input variable, and just cascade the different functions, as in Tensorflow. So, for the same example, we would have :\n",
        "\n",
        "- `input = keras.Input(shape=(n_in,))`\n",
        "- `output = layers.Dense(n_in,n_out,activation='relu')(input)`\n",
        "- `model = keras.Model(input, output)`\n",
        "\n",
        "\n",
        "For now, let's use the Sequential API (however, if you want to try the standard API, go ahead)."
      ]
    },
    {
      "cell_type": "markdown",
      "metadata": {
        "id": "UYFxzt5mRHAy"
      },
      "source": [
        "# MLP with Keras : Architecture\n",
        "\n",
        "We are now going to create an MLP with Keras. We will start with an MLP with one hidden layer. The network should consist of the following operations, in the following order :\n",
        "\n",
        "- Fully connected layer, with 50 output neurons\n",
        "- ReLU activation\n",
        "- Fully connected layer, with 1 output neuron (because we have a binary classification problem)\n",
        "- Sigmoid output activation\n",
        "\n",
        "We are going to be solving a binary classification problem, so the output of the network should be a scalar between 0 and 1 (thus the last Sigmoid activation function).\n",
        "\n",
        "The loss function should be defined as the binary cross-entropy between the predicted class and the true class"
      ]
    },
    {
      "cell_type": "markdown",
      "metadata": {
        "id": "ZVDHVAOeftPe"
      },
      "source": [
        "# Training and testing a network\n",
        "\n",
        "Tensorflow allows the easy training of a network with the following functions :\n",
        "\n",
        "- `model.compile(loss=keras.losses.binary_crossentropy, optimizer=keras.optimizers.Adam(learning_rate=learning_rate))` : create the loss function and define the optimizer used. This function can do many other useful things (such as specifying different metrics to look at the model's performance e.g., with the argument: `metrics=[\"accuracy\"]`)\n",
        "- `model.fit(...)` : train the model\n",
        "- `model.evaluate(...)` : test the model\n",
        "- `model.predict(...)` : carry out a simple forward pass on the model"
      ]
    },
    {
      "cell_type": "markdown",
      "metadata": {
        "id": "jdGVzE6NRHAy"
      },
      "source": [
        "# Load data\n",
        "\n",
        "First, we load the data."
      ]
    },
    {
      "cell_type": "code",
      "execution_count": 3,
      "metadata": {
        "id": "EfiJwuLmRHAy"
      },
      "outputs": [
        {
          "data": {
            "image/png": "[encoded data removed]",
            "text/plain": [
              "<Figure size 640x480 with 1 Axes>"
            ]
          },
          "metadata": {},
          "output_type": "display_data"
        }
      ],
      "source": [
        "from sklearn import datasets\n",
        "from sklearn.preprocessing import MinMaxScaler\n",
        "from sklearn.model_selection import train_test_split\n",
        "\n",
        "X, Y = datasets.make_circles(n_samples=1000, noise=0.05, factor=0.5)\n",
        "X = MinMaxScaler().fit_transform(X)\n",
        "\n",
        "#show data in plot\n",
        "plt.plot(X[Y == 1, 0], X[Y == 1, 1], 'ro')\n",
        "plt.plot(X[Y == 0, 0], X[Y == 0, 1], 'bo')\n",
        "plt.grid('on')"
      ]
    },
    {
      "cell_type": "markdown",
      "metadata": {
        "id": "cRL1c6UyRHAy"
      },
      "source": [
        "We are now going to define some useful auxillary functions.\n",
        "\n",
        "First, a function that shows the decision boundary of our network. This works only for 2D input data"
      ]
    },
    {
      "cell_type": "code",
      "execution_count": 4,
      "metadata": {
        "id": "x0cUhY8xRHAz"
      },
      "outputs": [],
      "source": [
        "# THIS CODE IS GIVEN\n",
        "\n",
        "def plot_decision_function_2d(model_mlp, X, Y):\n",
        "   # create a mesh to plot in\n",
        "    h = .02  # step size in the mesh\n",
        "    offset = 0.1\n",
        "    x_min, x_max = X[:, 0].min() - offset, X[:, 0].max() + offset\n",
        "    y_min, y_max = X[:, 1].min() - offset, X[:, 1].max() + offset\n",
        "    xx, yy = np.meshgrid(np.arange(x_min, x_max, h),\n",
        "                         np.arange(y_min, y_max, h))\n",
        "\n",
        "    # Plot the decision boundary. For that, we will assign a color to each\n",
        "    # point in the mesh [x_min, x_max]x[y_min, y_max].\n",
        "    Z = model_mlp.predict(np.c_[xx.ravel(), yy.ravel()])\n",
        "\n",
        "    Z = Z<0.5\n",
        "    # Put the result into a color plot\n",
        "    Z = Z.reshape(xx.shape)\n",
        "    plt.figure()\n",
        "    plt.contourf(xx, yy, Z, cmap=plt.cm.Paired)\n",
        "\n",
        "    plt.plot(X[Y == 1, 0], X[Y == 1, 1], 'yo')\n",
        "    plt.plot(X[Y == 0, 0], X[Y == 0, 1], 'ko')\n",
        "\n",
        "    plt.title(\"Decision surface\")\n",
        "    plt.axis('tight')"
      ]
    },
    {
      "cell_type": "markdown",
      "metadata": {
        "id": "CKtZJ5iQRHA0"
      },
      "source": [
        "## CREATING AND TRAINING THE MODEL\n",
        "\n",
        "We are now ready to create our network with Keras and to carry out training on our training dataset."
      ]
    },
    {
      "cell_type": "code",
      "execution_count": 5,
      "metadata": {
        "id": "WO8dHtrGRHA0"
      },
      "outputs": [
        {
          "name": "stdout",
          "output_type": "stream",
          "text": [
            "(850, 2)\n"
          ]
        },
        {
          "name": "stderr",
          "output_type": "stream",
          "text": [
            "C:\\Users\\lmcastanedame\\AppData\\Local\\Packages\\PythonSoftwareFoundation.Python.3.11_qbz5n2kfra8p0\\LocalCache\\local-packages\\Python311\\site-packages\\keras\\src\\layers\\core\\dense.py:88: UserWarning: Do not pass an `input_shape`/`input_dim` argument to a layer. When using Sequential models, prefer using an `Input(shape)` object as the first layer in the model instead.\n",
            "  super().__init__(activity_regularizer=activity_regularizer, **kwargs)\n"
          ]
        },
        {
          "name": "stdout",
          "output_type": "stream",
          "text": [
            "Training\n",
            "Epoch 1/30\n",
            "\u001b[1m14/14\u001b[0m \u001b[32m━━━━━━━━━━━━━━━━━━━━\u001b[0m\u001b[37m\u001b[0m \u001b[1m2s\u001b[0m 5ms/step - accuracy: 0.4898 - loss: 0.7029\n",
            "Epoch 2/30\n",
            "\u001b[1m14/14\u001b[0m \u001b[32m━━━━━━━━━━━━━━━━━━━━\u001b[0m\u001b[37m\u001b[0m \u001b[1m0s\u001b[0m 3ms/step - accuracy: 0.5159 - loss: 0.7002 \n",
            "Epoch 3/30\n",
            "\u001b[1m14/14\u001b[0m \u001b[32m━━━━━━━━━━━━━━━━━━━━\u001b[0m\u001b[37m\u001b[0m \u001b[1m0s\u001b[0m 4ms/step - accuracy: 0.4832 - loss: 0.7019 \n",
            "Epoch 4/30\n",
            "\u001b[1m14/14\u001b[0m \u001b[32m━━━━━━━━━━━━━━━━━━━━\u001b[0m\u001b[37m\u001b[0m \u001b[1m0s\u001b[0m 4ms/step - accuracy: 0.5219 - loss: 0.6985 \n",
            "Epoch 5/30\n",
            "\u001b[1m14/14\u001b[0m \u001b[32m━━━━━━━━━━━━━━━━━━━━\u001b[0m\u001b[37m\u001b[0m \u001b[1m0s\u001b[0m 3ms/step - accuracy: 0.5042 - loss: 0.6993 \n",
            "Epoch 6/30\n",
            "\u001b[1m14/14\u001b[0m \u001b[32m━━━━━━━━━━━━━━━━━━━━\u001b[0m\u001b[37m\u001b[0m \u001b[1m0s\u001b[0m 3ms/step - accuracy: 0.5183 - loss: 0.6979 \n",
            "Epoch 7/30\n",
            "\u001b[1m14/14\u001b[0m \u001b[32m━━━━━━━━━━━━━━━━━━━━\u001b[0m\u001b[37m\u001b[0m \u001b[1m0s\u001b[0m 3ms/step - accuracy: 0.5161 - loss: 0.6990 \n",
            "Epoch 8/30\n",
            "\u001b[1m14/14\u001b[0m \u001b[32m━━━━━━━━━━━━━━━━━━━━\u001b[0m\u001b[37m\u001b[0m \u001b[1m0s\u001b[0m 3ms/step - accuracy: 0.5349 - loss: 0.6973 \n",
            "Epoch 9/30\n",
            "\u001b[1m14/14\u001b[0m \u001b[32m━━━━━━━━━━━━━━━━━━━━\u001b[0m\u001b[37m\u001b[0m \u001b[1m0s\u001b[0m 4ms/step - accuracy: 0.5116 - loss: 0.6997 \n",
            "Epoch 10/30\n",
            "\u001b[1m14/14\u001b[0m \u001b[32m━━━━━━━━━━━━━━━━━━━━\u001b[0m\u001b[37m\u001b[0m \u001b[1m0s\u001b[0m 3ms/step - accuracy: 0.5191 - loss: 0.6991 \n",
            "Epoch 11/30\n",
            "\u001b[1m14/14\u001b[0m \u001b[32m━━━━━━━━━━━━━━━━━━━━\u001b[0m\u001b[37m\u001b[0m \u001b[1m0s\u001b[0m 3ms/step - accuracy: 0.5459 - loss: 0.6974 \n",
            "Epoch 12/30\n",
            "\u001b[1m14/14\u001b[0m \u001b[32m━━━━━━━━━━━━━━━━━━━━\u001b[0m\u001b[37m\u001b[0m \u001b[1m0s\u001b[0m 2ms/step - accuracy: 0.5438 - loss: 0.6969 \n",
            "Epoch 13/30\n",
            "\u001b[1m14/14\u001b[0m \u001b[32m━━━━━━━━━━━━━━━━━━━━\u001b[0m\u001b[37m\u001b[0m \u001b[1m0s\u001b[0m 3ms/step - accuracy: 0.5727 - loss: 0.6959 \n",
            "Epoch 14/30\n",
            "\u001b[1m14/14\u001b[0m \u001b[32m━━━━━━━━━━━━━━━━━━━━\u001b[0m\u001b[37m\u001b[0m \u001b[1m0s\u001b[0m 4ms/step - accuracy: 0.5716 - loss: 0.6964 \n",
            "Epoch 15/30\n",
            "\u001b[1m14/14\u001b[0m \u001b[32m━━━━━━━━━━━━━━━━━━━━\u001b[0m\u001b[37m\u001b[0m \u001b[1m0s\u001b[0m 4ms/step - accuracy: 0.5610 - loss: 0.6967 \n",
            "Epoch 16/30\n",
            "\u001b[1m14/14\u001b[0m \u001b[32m━━━━━━━━━━━━━━━━━━━━\u001b[0m\u001b[37m\u001b[0m \u001b[1m0s\u001b[0m 3ms/step - accuracy: 0.5975 - loss: 0.6947 \n",
            "Epoch 17/30\n",
            "\u001b[1m14/14\u001b[0m \u001b[32m━━━━━━━━━━━━━━━━━━━━\u001b[0m\u001b[37m\u001b[0m \u001b[1m0s\u001b[0m 3ms/step - accuracy: 0.5859 - loss: 0.6955 \n",
            "Epoch 18/30\n",
            "\u001b[1m14/14\u001b[0m \u001b[32m━━━━━━━━━━━━━━━━━━━━\u001b[0m\u001b[37m\u001b[0m \u001b[1m0s\u001b[0m 2ms/step - accuracy: 0.5785 - loss: 0.6949 \n",
            "Epoch 19/30\n",
            "\u001b[1m14/14\u001b[0m \u001b[32m━━━━━━━━━━━━━━━━━━━━\u001b[0m\u001b[37m\u001b[0m \u001b[1m0s\u001b[0m 3ms/step - accuracy: 0.5731 - loss: 0.6945 \n",
            "Epoch 20/30\n",
            "\u001b[1m14/14\u001b[0m \u001b[32m━━━━━━━━━━━━━━━━━━━━\u001b[0m\u001b[37m\u001b[0m \u001b[1m0s\u001b[0m 3ms/step - accuracy: 0.5759 - loss: 0.6943 \n",
            "Epoch 21/30\n",
            "\u001b[1m14/14\u001b[0m \u001b[32m━━━━━━━━━━━━━━━━━━━━\u001b[0m\u001b[37m\u001b[0m \u001b[1m0s\u001b[0m 3ms/step - accuracy: 0.6038 - loss: 0.6937 \n",
            "Epoch 22/30\n",
            "\u001b[1m14/14\u001b[0m \u001b[32m━━━━━━━━━━━━━━━━━━━━\u001b[0m\u001b[37m\u001b[0m \u001b[1m0s\u001b[0m 3ms/step - accuracy: 0.5725 - loss: 0.6940 \n",
            "Epoch 23/30\n",
            "\u001b[1m14/14\u001b[0m \u001b[32m━━━━━━━━━━━━━━━━━━━━\u001b[0m\u001b[37m\u001b[0m \u001b[1m0s\u001b[0m 3ms/step - accuracy: 0.5825 - loss: 0.6938 \n",
            "Epoch 24/30\n",
            "\u001b[1m14/14\u001b[0m \u001b[32m━━━━━━━━━━━━━━━━━━━━\u001b[0m\u001b[37m\u001b[0m \u001b[1m0s\u001b[0m 3ms/step - accuracy: 0.6031 - loss: 0.6933 \n",
            "Epoch 25/30\n",
            "\u001b[1m14/14\u001b[0m \u001b[32m━━━━━━━━━━━━━━━━━━━━\u001b[0m\u001b[37m\u001b[0m \u001b[1m0s\u001b[0m 2ms/step - accuracy: 0.6128 - loss: 0.6927 \n",
            "Epoch 26/30\n",
            "\u001b[1m14/14\u001b[0m \u001b[32m━━━━━━━━━━━━━━━━━━━━\u001b[0m\u001b[37m\u001b[0m \u001b[1m0s\u001b[0m 3ms/step - accuracy: 0.6270 - loss: 0.6927 \n",
            "Epoch 27/30\n",
            "\u001b[1m14/14\u001b[0m \u001b[32m━━━━━━━━━━━━━━━━━━━━\u001b[0m\u001b[37m\u001b[0m \u001b[1m0s\u001b[0m 2ms/step - accuracy: 0.6166 - loss: 0.6921 \n",
            "Epoch 28/30\n",
            "\u001b[1m14/14\u001b[0m \u001b[32m━━━━━━━━━━━━━━━━━━━━\u001b[0m\u001b[37m\u001b[0m \u001b[1m0s\u001b[0m 3ms/step - accuracy: 0.6256 - loss: 0.6920 \n",
            "Epoch 29/30\n",
            "\u001b[1m14/14\u001b[0m \u001b[32m━━━━━━━━━━━━━━━━━━━━\u001b[0m\u001b[37m\u001b[0m \u001b[1m0s\u001b[0m 4ms/step - accuracy: 0.6273 - loss: 0.6921 \n",
            "Epoch 30/30\n",
            "\u001b[1m14/14\u001b[0m \u001b[32m━━━━━━━━━━━━━━━━━━━━\u001b[0m\u001b[37m\u001b[0m \u001b[1m0s\u001b[0m 3ms/step - accuracy: 0.6481 - loss: 0.6914 \n",
            "Testing\n",
            "5/5 - 0s - 60ms/step - accuracy: 0.6800 - loss: 0.6910\n"
          ]
        },
        {
          "data": {
            "text/plain": [
              "[0.6909535527229309, 0.6800000071525574]"
            ]
          },
          "execution_count": 5,
          "metadata": {},
          "output_type": "execute_result"
        }
      ],
      "source": [
        "# FILL IN CODE BY STUDENTS IN THIS SECTION\n",
        "\n",
        "# We split up the data into training and test data, using a function from Scikit-learn :\n",
        "X_train, X_test, Y_train, Y_test = train_test_split(X, Y, test_size=0.15)\n",
        "print(X_train.shape)\n",
        "\n",
        "# Layer sizes\n",
        "n_input = X.shape[1]  # Number of input features\n",
        "n_hidden = 50  # Number of neurons in the hidden layer\n",
        "n_output = 1 # Number of output neurons\n",
        "\n",
        "# create the model (using the sequential API)\n",
        "\n",
        "model_mlp = keras.Sequential([\n",
        "    layers.Dense(n_hidden, input_dim=n_input, activation='relu'),  # Hidden layer\n",
        "    layers.Dense(n_output, activation='sigmoid')  # Output layer\n",
        "])   # FILL IN STUDENTS\n",
        "\n",
        "# create the loss and optimiser\n",
        "learning_rate = 0.01\n",
        "model_mlp.compile(loss = 'binary_crossentropy', optimizer = keras.optimizers.SGD(learning_rate = learning_rate), \n",
        "                  metrics=['accuracy'])  # TO FILL IN\n",
        "\n",
        "# Run optimisation algorithm\n",
        "n_epochs = 30\n",
        "batch_size = 64\n",
        "\n",
        "print('Training')\n",
        "model_mlp.fit(X_train, Y_train, epochs=n_epochs, batch_size=batch_size) # TO FILL IN\n",
        "\n",
        "print('Testing')\n",
        "model_mlp.evaluate(X_test, Y_test, verbose=2) # TO FILL IN\n"
      ]
    },
    {
      "cell_type": "code",
      "execution_count": 6,
      "metadata": {
        "id": "lpBaU1rcc0oY"
      },
      "outputs": [
        {
          "name": "stdout",
          "output_type": "stream",
          "text": [
            "\u001b[1m109/109\u001b[0m \u001b[32m━━━━━━━━━━━━━━━━━━━━\u001b[0m\u001b[37m\u001b[0m \u001b[1m1s\u001b[0m 3ms/step\n"
          ]
        },
        {
          "data": {
            "image/png": "[encoded data removed]",
            "text/plain": [
              "<Figure size 640x480 with 1 Axes>"
            ]
          },
          "metadata": {},
          "output_type": "display_data"
        }
      ],
      "source": [
        "plot_decision_function_2d(model_mlp, X_test, Y_test)"
      ]
    },
    {
      "cell_type": "markdown",
      "metadata": {
        "id": "6oni6Q5vRHA0"
      },
      "source": [
        "# 2 - MLP with several hidden layers, on MNIST\n",
        "\n",
        "We are now going to create an MLP with several hidden layers. We are going to use a more complicated dataset : the MNIST dataset, which contains images of handwritten digits. There are 10 classes, one for each digit.\n",
        "\n",
        "We are going to implement the following architecture :\n",
        "\n",
        "- Fully connected layer\n",
        "- Relu activation\n",
        "- Fully connected layer\n",
        "- Relu activation\n",
        "- Fully connected layer\n",
        "- Relu activation\n",
        "- Fully connected layer\n",
        "- Softmax output activation\n",
        "\n",
        "__IMPORTANT Note__ The sigmoid layer has been replaced by a softmax layer (at the end). This is normal, since we have a multi-class problem. __However, this differs from our Pytorch implementation, because Pytorch includes the softmax in the cross-entropy loss, unlike Keras.__\n",
        "\n",
        "\n",
        "First, we load the MNIST dataset."
      ]
    },
    {
      "cell_type": "code",
      "execution_count": 7,
      "metadata": {
        "id": "Z0cGLMKRRHA0"
      },
      "outputs": [],
      "source": [
        "# Import MNIST data\n",
        "mnist = keras.datasets.mnist\n",
        "(X_train, y_train),(X_test, y_test) = mnist.load_data()\n",
        "\n",
        "Y_train = keras.utils.to_categorical(y_train)  # in order to convert y to a matrix with (num_examples, num_classes) (one-hot encoding)\n",
        "Y_test = keras.utils.to_categorical(y_test)  # in order to convert y to a matrix with (num_examples, num_classes) (one-hot encoding)\n",
        "\n",
        "# reshape the input images : flatten the last two dimensions\n",
        "X_train = np.reshape(X_train,(X_train.shape[0],X_train.shape[1]*X_train.shape[2]))\n",
        "X_test = np.reshape(X_test,(X_test.shape[0],X_test.shape[1]*X_test.shape[2]))\n"
      ]
    },
    {
      "cell_type": "markdown",
      "metadata": {
        "id": "EzMV_9-NRHA1"
      },
      "source": [
        "Finally, fill in the following code to create and train your MLP"
      ]
    },
    {
      "cell_type": "code",
      "execution_count": 8,
      "metadata": {
        "id": "2G7AToqyRHA1"
      },
      "outputs": [
        {
          "name": "stderr",
          "output_type": "stream",
          "text": [
            "C:\\Users\\lmcastanedame\\AppData\\Local\\Packages\\PythonSoftwareFoundation.Python.3.11_qbz5n2kfra8p0\\LocalCache\\local-packages\\Python311\\site-packages\\keras\\src\\layers\\core\\dense.py:88: UserWarning: Do not pass an `input_shape`/`input_dim` argument to a layer. When using Sequential models, prefer using an `Input(shape)` object as the first layer in the model instead.\n",
            "  super().__init__(activity_regularizer=activity_regularizer, **kwargs)\n"
          ]
        },
        {
          "name": "stdout",
          "output_type": "stream",
          "text": [
            "Training\n",
            "Epoch 1/20\n",
            "\u001b[1m938/938\u001b[0m \u001b[32m━━━━━━━━━━━━━━━━━━━━\u001b[0m\u001b[37m\u001b[0m \u001b[1m13s\u001b[0m 9ms/step - accuracy: 0.8278 - loss: 3.5963\n",
            "Epoch 2/20\n",
            "\u001b[1m938/938\u001b[0m \u001b[32m━━━━━━━━━━━━━━━━━━━━\u001b[0m\u001b[37m\u001b[0m \u001b[1m8s\u001b[0m 9ms/step - accuracy: 0.9468 - loss: 0.2053\n",
            "Epoch 3/20\n",
            "\u001b[1m938/938\u001b[0m \u001b[32m━━━━━━━━━━━━━━━━━━━━\u001b[0m\u001b[37m\u001b[0m \u001b[1m9s\u001b[0m 9ms/step - accuracy: 0.9632 - loss: 0.1273\n",
            "Epoch 4/20\n",
            "\u001b[1m938/938\u001b[0m \u001b[32m━━━━━━━━━━━━━━━━━━━━\u001b[0m\u001b[37m\u001b[0m \u001b[1m8s\u001b[0m 9ms/step - accuracy: 0.9673 - loss: 0.1148\n",
            "Epoch 5/20\n",
            "\u001b[1m938/938\u001b[0m \u001b[32m━━━━━━━━━━━━━━━━━━━━\u001b[0m\u001b[37m\u001b[0m \u001b[1m8s\u001b[0m 9ms/step - accuracy: 0.9703 - loss: 0.1009\n",
            "Epoch 6/20\n",
            "\u001b[1m938/938\u001b[0m \u001b[32m━━━━━━━━━━━━━━━━━━━━\u001b[0m\u001b[37m\u001b[0m \u001b[1m9s\u001b[0m 9ms/step - accuracy: 0.9730 - loss: 0.0926\n",
            "Epoch 7/20\n",
            "\u001b[1m938/938\u001b[0m \u001b[32m━━━━━━━━━━━━━━━━━━━━\u001b[0m\u001b[37m\u001b[0m \u001b[1m9s\u001b[0m 9ms/step - accuracy: 0.9779 - loss: 0.0752\n",
            "Epoch 8/20\n",
            "\u001b[1m938/938\u001b[0m \u001b[32m━━━━━━━━━━━━━━━━━━━━\u001b[0m\u001b[37m\u001b[0m \u001b[1m9s\u001b[0m 9ms/step - accuracy: 0.9793 - loss: 0.0702\n",
            "Epoch 9/20\n",
            "\u001b[1m938/938\u001b[0m \u001b[32m━━━━━━━━━━━━━━━━━━━━\u001b[0m\u001b[37m\u001b[0m \u001b[1m9s\u001b[0m 9ms/step - accuracy: 0.9806 - loss: 0.0637\n",
            "Epoch 10/20\n",
            "\u001b[1m938/938\u001b[0m \u001b[32m━━━━━━━━━━━━━━━━━━━━\u001b[0m\u001b[37m\u001b[0m \u001b[1m8s\u001b[0m 9ms/step - accuracy: 0.9831 - loss: 0.0578\n",
            "Epoch 11/20\n",
            "\u001b[1m938/938\u001b[0m \u001b[32m━━━━━━━━━━━━━━━━━━━━\u001b[0m\u001b[37m\u001b[0m \u001b[1m8s\u001b[0m 8ms/step - accuracy: 0.9840 - loss: 0.0545\n",
            "Epoch 12/20\n",
            "\u001b[1m938/938\u001b[0m \u001b[32m━━━━━━━━━━━━━━━━━━━━\u001b[0m\u001b[37m\u001b[0m \u001b[1m8s\u001b[0m 8ms/step - accuracy: 0.9857 - loss: 0.0467\n",
            "Epoch 13/20\n",
            "\u001b[1m938/938\u001b[0m \u001b[32m━━━━━━━━━━━━━━━━━━━━\u001b[0m\u001b[37m\u001b[0m \u001b[1m8s\u001b[0m 8ms/step - accuracy: 0.9876 - loss: 0.0457\n",
            "Epoch 14/20\n",
            "\u001b[1m938/938\u001b[0m \u001b[32m━━━━━━━━━━━━━━━━━━━━\u001b[0m\u001b[37m\u001b[0m \u001b[1m8s\u001b[0m 9ms/step - accuracy: 0.9863 - loss: 0.0472\n",
            "Epoch 15/20\n",
            "\u001b[1m938/938\u001b[0m \u001b[32m━━━━━━━━━━━━━━━━━━━━\u001b[0m\u001b[37m\u001b[0m \u001b[1m8s\u001b[0m 9ms/step - accuracy: 0.9878 - loss: 0.0436\n",
            "Epoch 16/20\n",
            "\u001b[1m938/938\u001b[0m \u001b[32m━━━━━━━━━━━━━━━━━━━━\u001b[0m\u001b[37m\u001b[0m \u001b[1m8s\u001b[0m 8ms/step - accuracy: 0.9893 - loss: 0.0384\n",
            "Epoch 17/20\n",
            "\u001b[1m938/938\u001b[0m \u001b[32m━━━━━━━━━━━━━━━━━━━━\u001b[0m\u001b[37m\u001b[0m \u001b[1m8s\u001b[0m 8ms/step - accuracy: 0.9896 - loss: 0.0389\n",
            "Epoch 18/20\n",
            "\u001b[1m938/938\u001b[0m \u001b[32m━━━━━━━━━━━━━━━━━━━━\u001b[0m\u001b[37m\u001b[0m \u001b[1m8s\u001b[0m 8ms/step - accuracy: 0.9918 - loss: 0.0301\n",
            "Epoch 19/20\n",
            "\u001b[1m938/938\u001b[0m \u001b[32m━━━━━━━━━━━━━━━━━━━━\u001b[0m\u001b[37m\u001b[0m \u001b[1m8s\u001b[0m 8ms/step - accuracy: 0.9926 - loss: 0.0292\n",
            "Epoch 20/20\n",
            "\u001b[1m938/938\u001b[0m \u001b[32m━━━━━━━━━━━━━━━━━━━━\u001b[0m\u001b[37m\u001b[0m \u001b[1m8s\u001b[0m 9ms/step - accuracy: 0.9913 - loss: 0.0363\n",
            "Testing\n",
            "313/313 - 1s - 4ms/step - accuracy: 0.9778 - loss: 0.1291\n"
          ]
        },
        {
          "data": {
            "text/plain": [
              "[0.12906913459300995, 0.9778000116348267]"
            ]
          },
          "execution_count": 8,
          "metadata": {},
          "output_type": "execute_result"
        }
      ],
      "source": [
        "\n",
        "# Network Parameters\n",
        "n_hidden_1 = 256 # 1st layer number of neurons\n",
        "n_hidden_2 = 256 # 2nd layer number of neurons\n",
        "n_hidden_3 = 128 # 3rd layer number of neurons\n",
        "\n",
        "n_input = X_train.shape[1]\n",
        "n_classes = Y_train.shape[1] # MNIST total classes (0-9 digits)\n",
        "\n",
        "# TO CODE BY STUDENTS\n",
        "\n",
        "\n",
        "model_mlp_multi_layer = keras.Sequential([\n",
        "    layers.Dense(n_hidden_1, input_shape=(n_input,), activation='relu'),\n",
        "    layers.Dense(n_hidden_2, activation='relu'),\n",
        "    layers.Dense(n_hidden_3, activation='relu'),\n",
        "    layers.Dense(n_classes, activation='softmax')\n",
        "])\n",
        "\n",
        "# create the loss and optimiser, use keras.losses.categorical_crossentropy in loss\n",
        "learning_rate = 0.001\n",
        "optimizer = keras.optimizers.Adam(learning_rate=learning_rate)\n",
        "model_mlp_multi_layer.compile(loss='categorical_crossentropy', optimizer=optimizer, metrics=['accuracy'])\n",
        "\n",
        "# Run optimisation algorithm\n",
        "n_epochs = 20\n",
        "batch_size = 64\n",
        "\n",
        "print('Training')\n",
        "model_mlp_multi_layer.fit(X_train, Y_train, epochs=n_epochs, batch_size=batch_size)\n",
        "\n",
        "print('Testing')\n",
        "model_mlp_multi_layer.evaluate(X_test, Y_test, verbose=2)"
      ]
    },
    {
      "cell_type": "code",
      "execution_count": 9,
      "metadata": {
        "id": "s6Q-JntxluxG"
      },
      "outputs": [],
      "source": [
        "# THIS CODE IS GIVEN\n",
        "\n",
        "def test_mnist_images(model_mlp_multi_layer,X_test):\n",
        "  plt.figure(figsize=(10, 6))\n",
        "  for idx in range(0,10):\n",
        "      plt.subplot(2, 5, idx+1)\n",
        "      rand_ind = np.random.randint(0,X_test.shape[0])\n",
        "      plt.imshow(np.reshape(X_test[rand_ind,:],(28,28)),cmap='gray')\n",
        "      # get prediction\n",
        "      model_prediction = np.argmax(model_mlp_multi_layer.predict(np.expand_dims( X_test[rand_ind,:], axis=0)),axis=1)\n",
        "      plt.title(int(model_prediction))"
      ]
    },
    {
      "cell_type": "code",
      "execution_count": 10,
      "metadata": {
        "id": "r2D9RE4apVWW"
      },
      "outputs": [
        {
          "name": "stdout",
          "output_type": "stream",
          "text": [
            "\u001b[1m1/1\u001b[0m \u001b[32m━━━━━━━━━━━━━━━━━━━━\u001b[0m\u001b[37m\u001b[0m \u001b[1m0s\u001b[0m 290ms/step\n",
            "\u001b[1m1/1\u001b[0m \u001b[32m━━━━━━━━━━━━━━━━━━━━\u001b[0m\u001b[37m\u001b[0m \u001b[1m0s\u001b[0m 61ms/step\n"
          ]
        },
        {
          "name": "stderr",
          "output_type": "stream",
          "text": [
            "C:\\Users\\lmcastanedame\\AppData\\Local\\Temp\\ipykernel_19556\\153462774.py:11: DeprecationWarning: Conversion of an array with ndim > 0 to a scalar is deprecated, and will error in future. Ensure you extract a single element from your array before performing this operation. (Deprecated NumPy 1.25.)\n",
            "  plt.title(int(model_prediction))\n"
          ]
        },
        {
          "name": "stdout",
          "output_type": "stream",
          "text": [
            "\u001b[1m1/1\u001b[0m \u001b[32m━━━━━━━━━━━━━━━━━━━━\u001b[0m\u001b[37m\u001b[0m \u001b[1m0s\u001b[0m 56ms/step\n",
            "\u001b[1m1/1\u001b[0m \u001b[32m━━━━━━━━━━━━━━━━━━━━\u001b[0m\u001b[37m\u001b[0m \u001b[1m0s\u001b[0m 48ms/step\n",
            "\u001b[1m1/1\u001b[0m \u001b[32m━━━━━━━━━━━━━━━━━━━━\u001b[0m\u001b[37m\u001b[0m \u001b[1m0s\u001b[0m 47ms/step\n",
            "\u001b[1m1/1\u001b[0m \u001b[32m━━━━━━━━━━━━━━━━━━━━\u001b[0m\u001b[37m\u001b[0m \u001b[1m0s\u001b[0m 47ms/step\n",
            "\u001b[1m1/1\u001b[0m \u001b[32m━━━━━━━━━━━━━━━━━━━━\u001b[0m\u001b[37m\u001b[0m \u001b[1m0s\u001b[0m 53ms/step\n",
            "\u001b[1m1/1\u001b[0m \u001b[32m━━━━━━━━━━━━━━━━━━━━\u001b[0m\u001b[37m\u001b[0m \u001b[1m0s\u001b[0m 87ms/step\n",
            "\u001b[1m1/1\u001b[0m \u001b[32m━━━━━━━━━━━━━━━━━━━━\u001b[0m\u001b[37m\u001b[0m \u001b[1m0s\u001b[0m 74ms/step\n",
            "\u001b[1m1/1\u001b[0m \u001b[32m━━━━━━━━━━━━━━━━━━━━\u001b[0m\u001b[37m\u001b[0m \u001b[1m0s\u001b[0m 54ms/step\n"
          ]
        },
        {
          "data": {
            "image/png": "[encoded data removed]",
            "text/plain": [
              "<Figure size 1000x600 with 10 Axes>"
            ]
          },
          "metadata": {},
          "output_type": "display_data"
        }
      ],
      "source": [
        "test_mnist_images(model_mlp_multi_layer,X_test)"
      ]
    },
    {
      "cell_type": "markdown",
      "metadata": {
        "id": "lItdBVnfu7xK"
      },
      "source": [
        "You may observe some difficulties in getting good performance in this case. For me, this was much more obvious here than in the Pytorch implementation for some reason (maybe different implementation choices: in the initialization of the layers, the optimizer, etc.). To improve training, we can turn to __regularisation__."
      ]
    },
    {
      "cell_type": "markdown",
      "metadata": {
        "id": "Vgao_U5XRHA2"
      },
      "source": [
        "## BATCH NORMALISATION\n",
        "\n",
        "One approach to improving the convergence of neural network training which we have seen during the lesson is known as batch normalisation, which we have seen during the lesson. This can be implemented very simply in Tensorflow by adding the following layer :\n",
        "\n",
        "- ```layers.BatchNormalization()```\n",
        "\n",
        "Change your model below, and implement this using your code above"
      ]
    },
    {
      "cell_type": "code",
      "execution_count": 12,
      "metadata": {
        "id": "6Ela5-4XRHA2"
      },
      "outputs": [
        {
          "name": "stderr",
          "output_type": "stream",
          "text": [
            "C:\\Users\\lmcastanedame\\AppData\\Local\\Packages\\PythonSoftwareFoundation.Python.3.11_qbz5n2kfra8p0\\LocalCache\\local-packages\\Python311\\site-packages\\keras\\src\\layers\\core\\dense.py:88: UserWarning: Do not pass an `input_shape`/`input_dim` argument to a layer. When using Sequential models, prefer using an `Input(shape)` object as the first layer in the model instead.\n",
            "  super().__init__(activity_regularizer=activity_regularizer, **kwargs)\n"
          ]
        },
        {
          "name": "stdout",
          "output_type": "stream",
          "text": [
            "Training\n",
            "Epoch 1/20\n",
            "\u001b[1m938/938\u001b[0m \u001b[32m━━━━━━━━━━━━━━━━━━━━\u001b[0m\u001b[37m\u001b[0m \u001b[1m18s\u001b[0m 10ms/step - accuracy: 0.8948 - loss: 0.5671\n",
            "Epoch 2/20\n",
            "\u001b[1m938/938\u001b[0m \u001b[32m━━━━━━━━━━━━━━━━━━━━\u001b[0m\u001b[37m\u001b[0m \u001b[1m10s\u001b[0m 10ms/step - accuracy: 0.9696 - loss: 0.1706\n",
            "Epoch 3/20\n",
            "\u001b[1m938/938\u001b[0m \u001b[32m━━━━━━━━━━━━━━━━━━━━\u001b[0m\u001b[37m\u001b[0m \u001b[1m9s\u001b[0m 10ms/step - accuracy: 0.9784 - loss: 0.1035\n",
            "Epoch 4/20\n",
            "\u001b[1m938/938\u001b[0m \u001b[32m━━━━━━━━━━━━━━━━━━━━\u001b[0m\u001b[37m\u001b[0m \u001b[1m9s\u001b[0m 10ms/step - accuracy: 0.9833 - loss: 0.0738\n",
            "Epoch 5/20\n",
            "\u001b[1m938/938\u001b[0m \u001b[32m━━━━━━━━━━━━━━━━━━━━\u001b[0m\u001b[37m\u001b[0m \u001b[1m9s\u001b[0m 10ms/step - accuracy: 0.9867 - loss: 0.0568\n",
            "Epoch 6/20\n",
            "\u001b[1m938/938\u001b[0m \u001b[32m━━━━━━━━━━━━━━━━━━━━\u001b[0m\u001b[37m\u001b[0m \u001b[1m11s\u001b[0m 11ms/step - accuracy: 0.9879 - loss: 0.0475\n",
            "Epoch 7/20\n",
            "\u001b[1m938/938\u001b[0m \u001b[32m━━━━━━━━━━━━━━━━━━━━\u001b[0m\u001b[37m\u001b[0m \u001b[1m9s\u001b[0m 10ms/step - accuracy: 0.9901 - loss: 0.0392\n",
            "Epoch 8/20\n",
            "\u001b[1m938/938\u001b[0m \u001b[32m━━━━━━━━━━━━━━━━━━━━\u001b[0m\u001b[37m\u001b[0m \u001b[1m9s\u001b[0m 10ms/step - accuracy: 0.9925 - loss: 0.0297\n",
            "Epoch 9/20\n",
            "\u001b[1m938/938\u001b[0m \u001b[32m━━━━━━━━━━━━━━━━━━━━\u001b[0m\u001b[37m\u001b[0m \u001b[1m9s\u001b[0m 10ms/step - accuracy: 0.9931 - loss: 0.0263\n",
            "Epoch 10/20\n",
            "\u001b[1m938/938\u001b[0m \u001b[32m━━━━━━━━━━━━━━━━━━━━\u001b[0m\u001b[37m\u001b[0m \u001b[1m10s\u001b[0m 10ms/step - accuracy: 0.9939 - loss: 0.0228\n",
            "Epoch 11/20\n",
            "\u001b[1m938/938\u001b[0m \u001b[32m━━━━━━━━━━━━━━━━━━━━\u001b[0m\u001b[37m\u001b[0m \u001b[1m9s\u001b[0m 10ms/step - accuracy: 0.9949 - loss: 0.0200\n",
            "Epoch 12/20\n",
            "\u001b[1m938/938\u001b[0m \u001b[32m━━━━━━━━━━━━━━━━━━━━\u001b[0m\u001b[37m\u001b[0m \u001b[1m10s\u001b[0m 10ms/step - accuracy: 0.9954 - loss: 0.0175\n",
            "Epoch 13/20\n",
            "\u001b[1m938/938\u001b[0m \u001b[32m━━━━━━━━━━━━━━━━━━━━\u001b[0m\u001b[37m\u001b[0m \u001b[1m10s\u001b[0m 10ms/step - accuracy: 0.9953 - loss: 0.0168\n",
            "Epoch 14/20\n",
            "\u001b[1m938/938\u001b[0m \u001b[32m━━━━━━━━━━━━━━━━━━━━\u001b[0m\u001b[37m\u001b[0m \u001b[1m10s\u001b[0m 10ms/step - accuracy: 0.9959 - loss: 0.0150\n",
            "Epoch 15/20\n",
            "\u001b[1m938/938\u001b[0m \u001b[32m━━━━━━━━━━━━━━━━━━━━\u001b[0m\u001b[37m\u001b[0m \u001b[1m9s\u001b[0m 10ms/step - accuracy: 0.9956 - loss: 0.0132\n",
            "Epoch 16/20\n",
            "\u001b[1m938/938\u001b[0m \u001b[32m━━━━━━━━━━━━━━━━━━━━\u001b[0m\u001b[37m\u001b[0m \u001b[1m9s\u001b[0m 10ms/step - accuracy: 0.9963 - loss: 0.0135\n",
            "Epoch 17/20\n",
            "\u001b[1m938/938\u001b[0m \u001b[32m━━━━━━━━━━━━━━━━━━━━\u001b[0m\u001b[37m\u001b[0m \u001b[1m9s\u001b[0m 10ms/step - accuracy: 0.9962 - loss: 0.0136\n",
            "Epoch 18/20\n",
            "\u001b[1m938/938\u001b[0m \u001b[32m━━━━━━━━━━━━━━━━━━━━\u001b[0m\u001b[37m\u001b[0m \u001b[1m10s\u001b[0m 10ms/step - accuracy: 0.9974 - loss: 0.0108\n",
            "Epoch 19/20\n",
            "\u001b[1m938/938\u001b[0m \u001b[32m━━━━━━━━━━━━━━━━━━━━\u001b[0m\u001b[37m\u001b[0m \u001b[1m9s\u001b[0m 10ms/step - accuracy: 0.9973 - loss: 0.0097\n",
            "Epoch 20/20\n",
            "\u001b[1m938/938\u001b[0m \u001b[32m━━━━━━━━━━━━━━━━━━━━\u001b[0m\u001b[37m\u001b[0m \u001b[1m10s\u001b[0m 10ms/step - accuracy: 0.9971 - loss: 0.0091\n",
            "Testing\n",
            "313/313 - 2s - 5ms/step - accuracy: 0.9844 - loss: 0.0583\n"
          ]
        },
        {
          "data": {
            "text/plain": [
              "[0.0582633875310421, 0.9843999743461609]"
            ]
          },
          "execution_count": 12,
          "metadata": {},
          "output_type": "execute_result"
        }
      ],
      "source": [
        "# TO CODE BY STUDENTS\n",
        "\n",
        "# create the model (using the sequential API)\n",
        "model_mlp_multi_layer = keras.Sequential([\n",
        "    layers.Dense(n_hidden_1, input_shape=(n_input,)),\n",
        "    layers.BatchNormalization(),\n",
        "    keras.layers.Activation('relu'),\n",
        "    layers.Dense(n_hidden_2),\n",
        "    layers.BatchNormalization(),\n",
        "    keras.layers.Activation('relu'),\n",
        "    layers.Dense(n_hidden_3),\n",
        "    layers.BatchNormalization(),\n",
        "    keras.layers.Activation('relu'),\n",
        "    layers.Dense(n_classes),\n",
        "    layers.BatchNormalization(),\n",
        "    keras.layers.Activation('softmax')\n",
        "])\n",
        "\n",
        "# create the loss and optimiser, use keras.losses.categorical_crossentropy in loss\n",
        "learning_rate = 0.001\n",
        "optimizer = keras.optimizers.Adam(learning_rate=learning_rate)\n",
        "model_mlp_multi_layer.compile(loss='categorical_crossentropy', optimizer=optimizer, metrics=['accuracy'])\n",
        "\n",
        "# Run optimisation algorithm\n",
        "n_epochs = 20\n",
        "batch_size = 64\n",
        "\n",
        "print('Training')\n",
        "model_mlp_multi_layer.fit(X_train, Y_train, epochs=n_epochs, batch_size=batch_size)\n",
        "\n",
        "print('Testing')\n",
        "model_mlp_multi_layer.evaluate(X_test, Y_test, verbose=2)"
      ]
    },
    {
      "cell_type": "code",
      "execution_count": 13,
      "metadata": {
        "id": "cSxGzvQ3pg3u"
      },
      "outputs": [
        {
          "name": "stdout",
          "output_type": "stream",
          "text": [
            "\u001b[1m1/1\u001b[0m \u001b[32m━━━━━━━━━━━━━━━━━━━━\u001b[0m\u001b[37m\u001b[0m \u001b[1m0s\u001b[0m 345ms/step\n",
            "\u001b[1m1/1\u001b[0m \u001b[32m━━━━━━━━━━━━━━━━━━━━\u001b[0m\u001b[37m\u001b[0m \u001b[1m0s\u001b[0m 44ms/step\n"
          ]
        },
        {
          "name": "stderr",
          "output_type": "stream",
          "text": [
            "C:\\Users\\lmcastanedame\\AppData\\Local\\Temp\\ipykernel_19556\\153462774.py:11: DeprecationWarning: Conversion of an array with ndim > 0 to a scalar is deprecated, and will error in future. Ensure you extract a single element from your array before performing this operation. (Deprecated NumPy 1.25.)\n",
            "  plt.title(int(model_prediction))\n"
          ]
        },
        {
          "name": "stdout",
          "output_type": "stream",
          "text": [
            "\u001b[1m1/1\u001b[0m \u001b[32m━━━━━━━━━━━━━━━━━━━━\u001b[0m\u001b[37m\u001b[0m \u001b[1m0s\u001b[0m 43ms/step\n",
            "\u001b[1m1/1\u001b[0m \u001b[32m━━━━━━━━━━━━━━━━━━━━\u001b[0m\u001b[37m\u001b[0m \u001b[1m0s\u001b[0m 44ms/step\n",
            "\u001b[1m1/1\u001b[0m \u001b[32m━━━━━━━━━━━━━━━━━━━━\u001b[0m\u001b[37m\u001b[0m \u001b[1m0s\u001b[0m 53ms/step\n",
            "\u001b[1m1/1\u001b[0m \u001b[32m━━━━━━━━━━━━━━━━━━━━\u001b[0m\u001b[37m\u001b[0m \u001b[1m0s\u001b[0m 67ms/step\n",
            "\u001b[1m1/1\u001b[0m \u001b[32m━━━━━━━━━━━━━━━━━━━━\u001b[0m\u001b[37m\u001b[0m \u001b[1m0s\u001b[0m 72ms/step\n",
            "\u001b[1m1/1\u001b[0m \u001b[32m━━━━━━━━━━━━━━━━━━━━\u001b[0m\u001b[37m\u001b[0m \u001b[1m0s\u001b[0m 64ms/step\n",
            "\u001b[1m1/1\u001b[0m \u001b[32m━━━━━━━━━━━━━━━━━━━━\u001b[0m\u001b[37m\u001b[0m \u001b[1m0s\u001b[0m 57ms/step\n",
            "\u001b[1m1/1\u001b[0m \u001b[32m━━━━━━━━━━━━━━━━━━━━\u001b[0m\u001b[37m\u001b[0m \u001b[1m0s\u001b[0m 48ms/step\n"
          ]
        },
        {
          "data": {
            "image/png": "[encoded data removed]",
            "text/plain": [
              "<Figure size 1000x600 with 10 Axes>"
            ]
          },
          "metadata": {},
          "output_type": "display_data"
        }
      ],
      "source": [
        "test_mnist_images(model_mlp_multi_layer,X_test)"
      ]
    },
    {
      "cell_type": "markdown",
      "metadata": {
        "id": "pLNi42wMiCXC"
      },
      "source": [
        "__Question__: do you observe improved convergence ?"
      ]
    },
    {
      "cell_type": "markdown",
      "metadata": {},
      "source": [
        "Batch normalization lead to faster convergence by normalizing the input layer by re-centering and re-scaling. This normalization often allows for higher learning rates and less careful initialization, both of which can accelerate the learning process. \n",
        "\n",
        "By normalizing the inputs to each layer, batch normalization helps maintain stability during training. It reduces the problem known as internal covariate shift, where the distribution of inputs to layers changes as the parameters of the previous layers change during training."
      ]
    },
    {
      "cell_type": "markdown",
      "metadata": {
        "id": "iQPJDop31Nci"
      },
      "source": [
        "## Dropout\n",
        "\n",
        "Often in the process of training neural networks, there is a difference between the training accuracy and the testing accuracy. This is the problem of overfitting. To alleviate this problem, we can turn to dropout:\n",
        "\n",
        "`layers.Dropout(rate,...)`\n",
        "\n",
        "where rate is the probability that an input neuron to a layer will get set to 0. You can do this in any layer. Use the previous architecture and try out the dropout. Set the dropout rate to 0.1 on the first layer as a test. Then try it out on all layers (you may not see a great difference here since the mnist database is relatively simple, this is just to show you how it is done)"
      ]
    },
    {
      "cell_type": "code",
      "execution_count": 15,
      "metadata": {
        "id": "x-BF-fpo1PpW"
      },
      "outputs": [
        {
          "name": "stderr",
          "output_type": "stream",
          "text": [
            "C:\\Users\\lmcastanedame\\AppData\\Local\\Packages\\PythonSoftwareFoundation.Python.3.11_qbz5n2kfra8p0\\LocalCache\\local-packages\\Python311\\site-packages\\keras\\src\\layers\\core\\dense.py:88: UserWarning: Do not pass an `input_shape`/`input_dim` argument to a layer. When using Sequential models, prefer using an `Input(shape)` object as the first layer in the model instead.\n",
            "  super().__init__(activity_regularizer=activity_regularizer, **kwargs)\n"
          ]
        },
        {
          "name": "stdout",
          "output_type": "stream",
          "text": [
            "Training\n",
            "Epoch 1/20\n",
            "\u001b[1m938/938\u001b[0m \u001b[32m━━━━━━━━━━━━━━━━━━━━\u001b[0m\u001b[37m\u001b[0m \u001b[1m17s\u001b[0m 11ms/step - accuracy: 0.8680 - loss: 0.6449\n",
            "Epoch 2/20\n",
            "\u001b[1m938/938\u001b[0m \u001b[32m━━━━━━━━━━━━━━━━━━━━\u001b[0m\u001b[37m\u001b[0m \u001b[1m11s\u001b[0m 11ms/step - accuracy: 0.9596 - loss: 0.2076\n",
            "Epoch 3/20\n",
            "\u001b[1m938/938\u001b[0m \u001b[32m━━━━━━━━━━━━━━━━━━━━\u001b[0m\u001b[37m\u001b[0m \u001b[1m10s\u001b[0m 11ms/step - accuracy: 0.9674 - loss: 0.1414\n",
            "Epoch 4/20\n",
            "\u001b[1m938/938\u001b[0m \u001b[32m━━━━━━━━━━━━━━━━━━━━\u001b[0m\u001b[37m\u001b[0m \u001b[1m10s\u001b[0m 11ms/step - accuracy: 0.9743 - loss: 0.1063\n",
            "Epoch 5/20\n",
            "\u001b[1m938/938\u001b[0m \u001b[32m━━━━━━━━━━━━━━━━━━━━\u001b[0m\u001b[37m\u001b[0m \u001b[1m10s\u001b[0m 11ms/step - accuracy: 0.9793 - loss: 0.0831\n",
            "Epoch 6/20\n",
            "\u001b[1m938/938\u001b[0m \u001b[32m━━━━━━━━━━━━━━━━━━━━\u001b[0m\u001b[37m\u001b[0m \u001b[1m10s\u001b[0m 11ms/step - accuracy: 0.9840 - loss: 0.0637\n",
            "Epoch 7/20\n",
            "\u001b[1m938/938\u001b[0m \u001b[32m━━━━━━━━━━━━━━━━━━━━\u001b[0m\u001b[37m\u001b[0m \u001b[1m10s\u001b[0m 11ms/step - accuracy: 0.9833 - loss: 0.0609\n",
            "Epoch 8/20\n",
            "\u001b[1m938/938\u001b[0m \u001b[32m━━━━━━━━━━━━━━━━━━━━\u001b[0m\u001b[37m\u001b[0m \u001b[1m10s\u001b[0m 11ms/step - accuracy: 0.9855 - loss: 0.0536\n",
            "Epoch 9/20\n",
            "\u001b[1m938/938\u001b[0m \u001b[32m━━━━━━━━━━━━━━━━━━━━\u001b[0m\u001b[37m\u001b[0m \u001b[1m10s\u001b[0m 11ms/step - accuracy: 0.9876 - loss: 0.0441\n",
            "Epoch 10/20\n",
            "\u001b[1m938/938\u001b[0m \u001b[32m━━━━━━━━━━━━━━━━━━━━\u001b[0m\u001b[37m\u001b[0m \u001b[1m10s\u001b[0m 11ms/step - accuracy: 0.9884 - loss: 0.0399\n",
            "Epoch 11/20\n",
            "\u001b[1m938/938\u001b[0m \u001b[32m━━━━━━━━━━━━━━━━━━━━\u001b[0m\u001b[37m\u001b[0m \u001b[1m10s\u001b[0m 11ms/step - accuracy: 0.9901 - loss: 0.0334\n",
            "Epoch 12/20\n",
            "\u001b[1m938/938\u001b[0m \u001b[32m━━━━━━━━━━━━━━━━━━━━\u001b[0m\u001b[37m\u001b[0m \u001b[1m10s\u001b[0m 11ms/step - accuracy: 0.9906 - loss: 0.0314\n",
            "Epoch 13/20\n",
            "\u001b[1m938/938\u001b[0m \u001b[32m━━━━━━━━━━━━━━━━━━━━\u001b[0m\u001b[37m\u001b[0m \u001b[1m11s\u001b[0m 11ms/step - accuracy: 0.9917 - loss: 0.0292\n",
            "Epoch 14/20\n",
            "\u001b[1m938/938\u001b[0m \u001b[32m━━━━━━━━━━━━━━━━━━━━\u001b[0m\u001b[37m\u001b[0m \u001b[1m11s\u001b[0m 11ms/step - accuracy: 0.9911 - loss: 0.0302\n",
            "Epoch 15/20\n",
            "\u001b[1m938/938\u001b[0m \u001b[32m━━━━━━━━━━━━━━━━━━━━\u001b[0m\u001b[37m\u001b[0m \u001b[1m10s\u001b[0m 11ms/step - accuracy: 0.9923 - loss: 0.0261\n",
            "Epoch 16/20\n",
            "\u001b[1m938/938\u001b[0m \u001b[32m━━━━━━━━━━━━━━━━━━━━\u001b[0m\u001b[37m\u001b[0m \u001b[1m10s\u001b[0m 11ms/step - accuracy: 0.9930 - loss: 0.0244\n",
            "Epoch 17/20\n",
            "\u001b[1m938/938\u001b[0m \u001b[32m━━━━━━━━━━━━━━━━━━━━\u001b[0m\u001b[37m\u001b[0m \u001b[1m10s\u001b[0m 11ms/step - accuracy: 0.9943 - loss: 0.0202\n",
            "Epoch 18/20\n",
            "\u001b[1m938/938\u001b[0m \u001b[32m━━━━━━━━━━━━━━━━━━━━\u001b[0m\u001b[37m\u001b[0m \u001b[1m10s\u001b[0m 11ms/step - accuracy: 0.9938 - loss: 0.0204\n",
            "Epoch 19/20\n",
            "\u001b[1m938/938\u001b[0m \u001b[32m━━━━━━━━━━━━━━━━━━━━\u001b[0m\u001b[37m\u001b[0m \u001b[1m10s\u001b[0m 11ms/step - accuracy: 0.9928 - loss: 0.0229\n",
            "Epoch 20/20\n",
            "\u001b[1m938/938\u001b[0m \u001b[32m━━━━━━━━━━━━━━━━━━━━\u001b[0m\u001b[37m\u001b[0m \u001b[1m10s\u001b[0m 11ms/step - accuracy: 0.9933 - loss: 0.0217\n",
            "Testing\n",
            "313/313 - 2s - 6ms/step - accuracy: 0.9861 - loss: 0.0491\n"
          ]
        },
        {
          "data": {
            "text/plain": [
              "[0.04908489063382149, 0.9861000180244446]"
            ]
          },
          "execution_count": 15,
          "metadata": {},
          "output_type": "execute_result"
        }
      ],
      "source": [
        "dropout_rate = 0.1\n",
        "\n",
        "# TO CODE BY STUDENTS\n",
        "# create the model (using the sequential API)\n",
        "model_mlp_multi_layer = keras.Sequential([\n",
        "    layers.Dense(n_hidden_1, input_shape=(n_input,)),\n",
        "    layers.BatchNormalization(),\n",
        "    layers.Activation('relu'),\n",
        "    layers.Dropout(dropout_rate),\n",
        "    layers.Dense(n_hidden_2),\n",
        "    layers.BatchNormalization(),\n",
        "    layers.Activation('relu'),\n",
        "    layers.Dropout(dropout_rate),  # Apply dropout to each layer as an example\n",
        "    layers.Dense(n_hidden_3),\n",
        "    layers.BatchNormalization(),\n",
        "    layers.Activation('relu'),\n",
        "    layers.Dropout(dropout_rate),\n",
        "    layers.Dense(n_classes),\n",
        "    layers.BatchNormalization(),\n",
        "    layers.Activation('softmax')\n",
        "])\n",
        "\n",
        "# create the loss and optimiser, use keras.losses.categorical_crossentropy in loss\n",
        "learning_rate = 0.001\n",
        "optimizer = keras.optimizers.Adam(learning_rate=learning_rate)\n",
        "model_mlp_multi_layer.compile(loss='categorical_crossentropy', optimizer=optimizer, metrics=['accuracy'])\n",
        "\n",
        "# Run optimisation algorithm\n",
        "n_epochs = 20\n",
        "batch_size = 64\n",
        "\n",
        "print('Training')\n",
        "model_mlp_multi_layer.fit(X_train, Y_train, epochs=n_epochs, batch_size=batch_size)\n",
        "\n",
        "print('Testing')\n",
        "model_mlp_multi_layer.evaluate(X_test, Y_test, verbose=2)"
      ]
    },
    {
      "cell_type": "markdown",
      "metadata": {
        "id": "Y2CWgKZeRHA2"
      },
      "source": [
        "#### Documentation:\n",
        "\n",
        "  - https://keras.io/\n",
        "  - http://www.deeplearningbook.org/"
      ]
    }
  ],
  "metadata": {
    "accelerator": "GPU",
    "colab": {
      "provenance": []
    },
    "kernelspec": {
      "display_name": "Python 3 (ipykernel)",
      "language": "python",
      "name": "python3"
    },
    "language_info": {
      "codemirror_mode": {
        "name": "ipython",
        "version": 3
      },
      "file_extension": ".py",
      "mimetype": "text/x-python",
      "name": "python",
      "nbconvert_exporter": "python",
      "pygments_lexer": "ipython3",
      "version": "3.11.9"
    }
  },
  "nbformat": 4,
  "nbformat_minor": 0
}
